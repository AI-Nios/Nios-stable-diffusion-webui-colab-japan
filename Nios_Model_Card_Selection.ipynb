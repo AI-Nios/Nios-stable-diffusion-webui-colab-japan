{
  "cells": [
    {
      "cell_type": "markdown",
      "metadata": {
        "id": "view-in-github",
        "colab_type": "text"
      },
      "source": [
        "<a href=\"https://colab.research.google.com/github/AI-Nios/stable-diffusion-webui-colab-japanese/blob/main/Nios_Model_Card_Selection.ipynb\" target=\"_parent\"><img src=\"https://colab.research.google.com/assets/colab-badge.svg\" alt=\"Open In Colab\"/></a>"
      ]
    },
    {
      "cell_type": "markdown",
      "source": [
        "**0.最初にランタイムの設定をGPUに変更してく\n",
        "ださい**<br>\n",
        "「ランタイム」→「ランタイムのタイプを変更」でGPUを選び \"保存\" をクリック\n",
        "\n"
      ],
      "metadata": {
        "id": "xKjRJ93tiNYk"
      }
    },
    {
      "cell_type": "code",
      "execution_count": null,
      "metadata": {
        "id": "3rvLOgqyDUdD",
        "cellView": "form"
      },
      "outputs": [],
      "source": [
        "#@title 1.GPUの確認とWebUIのインストール\n",
        "#GPUの確認\n",
        "!nvidia-smi\n",
        "#パッケージインストール\n",
        "!pip install torch==1.13.1+cu116 torchvision==0.14.1+cu116 torchaudio==0.13.1 torchtext==0.14.1 torchdata==0.5.1 --extra-index-url https://download.pytorch.org/whl/cu116 -U\n",
        "!pip install -q xformers==0.0.16 triton==2.0.0 -U\n",
        "#WebUIのインストール\n",
        "!git clone -b v2.1 https://github.com/camenduru/stable-diffusion-webui\n",
        "#Extensions1 絶対入れておくべき\n",
        "!git clone https://github.com/alemelis/sd-webui-ar.git /content/stable-diffusion-webui/extensions/sd-webui-ar\n",
        "!git clone https://github.com/yfszzx/stable-diffusion-webui-images-browser /content/stable-diffusion-webui/extensions/stable-diffusion-webui-images-browser\n",
        "!git clone https://github.com/camenduru/stable-diffusion-webui-huggingface /content/stable-diffusion-webui/extensions/stable-diffusion-webui-huggingface\n",
        "!git clone https://github.com/DominikDoom/a1111-sd-webui-tagcomplete.git /content/stable-diffusion-webui/extensions/a1111-sd-webui-tagcomplete\n",
        "%cd /content/stable-diffusion-webui\n",
        "#EasyNegative\n",
        "!wget https://huggingface.co/datasets/gsdf/EasyNegative/resolve/main/EasyNegative.pt -O /content/stable-diffusion-webui/embeddings/EasyNegative.pt"
      ]
    },
    {
      "cell_type": "code",
      "execution_count": null,
      "metadata": {
        "id": "r8FuOir_Dkox",
        "cellView": "form"
      },
      "outputs": [],
      "source": [
        "#@title  2.モデル選択とWebUIの起動 \n",
        "#@markdown モデル選択とVAEを選択してから実行してください。\n",
        "\n",
        "import os\n",
        "                                \n",
        "model_name =\"ChilloutMix\" #@param [\"stable_diffusion_v1.5\",\"stable_diffusion_v2.1\",\"waifu_diffusion_v1.3\",\"Openjourney\",\"anything-v3.0\",\"anything-v4.0\",\"Counterfeit-V2.0\",\"8528-diffusion\",\"AbyssOrangeMix2\",\"EerieOrangeMix2\",\"trinart2_step115000\",\"Eimis_Anime_Diffusion_1.0v\",\"dreamlike-photoreal-2.0\",\"Cyberpunk-Anime-Diffusion\",\"Plat_Diffusion_v1.3.1\",\"ACertainThing\",\"pastel_mix\",\"anything-v4.5\",\"Basil_mix_fixed\",\"Realistic_Vision_V1.3\",\"Counterfeit-V2.5\",\"SukiyakiMix-v1.0\",\"7th_anime_v1.1\",\"7th_anime_v2_C\",\"7th_anime_v3_A\",\"YuzuGinger_v4\",\"YuzuLemonMilk_v1.5\", \"Defmix-v1.1\",\"RDtMix\",\"Corneo_7th_Heaven_Mix\",\"ChilloutMix\",\"wd-1-5-beta2\"] {allow-input: false}\n",
        "\n",
        "model_dict={\n",
        "    \"stable_diffusion_v1.5\":\"https://huggingface.co/camenduru/sd15/resolve/main/v1-5-pruned-emaonly.ckpt\",\n",
        "    \"stable_diffusion_v2.1\":\"https://huggingface.co/stabilityai/stable-diffusion-2-1/resolve/main/v2-1_768-ema-pruned.ckpt\",\n",
        "    \"waifu_diffusion_v1.3\":\"https://huggingface.co/hakurei/waifu-diffusion-v1-3/resolve/main/wd-v1-3-float32.ckpt\",\n",
        "    \"Openjourney\":\"https://huggingface.co/prompthero/openjourney/resolve/main/mdjrny-v4.safetensors\",\n",
        "    \"anything-v3.0\":\"https://huggingface.co/Linaqruf/anything-v3.0/resolve/main/anything-v3-fp32-pruned.safetensors\",\n",
        "    \"anything-v4.0\":\"https://huggingface.co/andite/anything-v4.0/resolve/main/anything-v4.0-pruned.ckpt\",\n",
        "    \"anything-v4.5\":\"https://huggingface.co/andite/anything-v4.0/resolve/main/anything-v4.5-pruned.safetensors\",\n",
        "    \"Counterfeit-V2.0\":\"https://huggingface.co/gsdf/Counterfeit-V2.0/resolve/main/Counterfeit-V2.0fp16.safetensors\",\n",
        "    \"Counterfeit-V2.5\":\"https://huggingface.co/gsdf/Counterfeit-V2.5/resolve/main/Counterfeit-V2.5_pruned.safetensors\",\n",
        "    \"8528-diffusion\":\"https://huggingface.co/852wa/8528-diffusion/resolve/main/8528d-final.ckpt\",\n",
        "    \"AbyssOrangeMix2\":\"https://huggingface.co/WarriorMama777/OrangeMixs/resolve/main/Models/AbyssOrangeMix2/AbyssOrangeMix2_nsfw.safetensors\",\n",
        "    \"EerieOrangeMix2\":\"https://huggingface.co/WarriorMama777/OrangeMixs/resolve/main/Models/EerieOrangeMix/EerieOrangeMix2.safetensors\",\n",
        "    \"trinart2_step115000\":\"https://huggingface.co/naclbit/trinart_stable_diffusion_v2/resolve/main/trinart2_step115000.ckpt\",\n",
        "    \"Eimis_Anime_Diffusion_1.0v\":\"https://huggingface.co/eimiss/EimisAnimeDiffusion_1.0v/resolve/main/EimisAnimeDiffusion_1-0v.ckpt\",\n",
        "    \"dreamlike-photoreal-2.0\":\"https://huggingface.co/dreamlike-art/dreamlike-photoreal-2.0/resolve/main/dreamlike-photoreal-2.0.safetensors\",\n",
        "    \"Cyberpunk-Anime-Diffusion\":\"https://huggingface.co/DGSpitzer/Cyberpunk-Anime-Diffusion/resolve/main/Cyberpunk-Anime-Diffusion.ckpt\",\n",
        "    \"Plat_Diffusion_v1.3.1\":\"https://huggingface.co/p1atdev/pd-archive/resolve/main/plat-v1-3-1.safetensors\",\n",
        "    \"ACertainThing\":\"https://huggingface.co/JosephusCheung/ACertainThing/resolve/main/ACertainThing.ckpt\",\n",
        "    \"pastel_mix\":\"https://huggingface.co/andite/pastel-mix/resolve/main/pastelmix-better-vae-fp16.safetensors\",\n",
        "    \"Basil_mix_fixed\":\"https://huggingface.co/nuigurumi/basil_mix/resolve/main/Basil_mix_fixed.safetensors\",\n",
        "    \"Realistic_Vision_V1.3\":\"https://civitai.com/api/download/models/6987\",\n",
        "    \"SukiyakiMix-v1.0\":\"https://huggingface.co/Vsukiyaki/SukiyakiMix-v1.0/resolve/main/SukiyakiMix-v1.0-fp16.safetensors\",\n",
        "    \"7th_anime_v1.1\":\"https://huggingface.co/syaimu/7th_Layer/resolve/main/7th_anime_v1/7th_anime_v1.1.safetensors\",\n",
        "    \"7th_anime_v2_A\":\"https://huggingface.co/syaimu/7th_Layer/resolve/main/7th_anime_v2/7th_anime_v2_A.safetensors\",\n",
        "    \"7th_anime_v2_B\":\"https://huggingface.co/syaimu/7th_Layer/resolve/main/7th_anime_v2/7th_anime_v2_B.safetensors\",\n",
        "    \"7th_anime_v2_C\":\"https://huggingface.co/syaimu/7th_Layer/resolve/main/7th_anime_v2/7th_anime_v2_C.safetensors\",\n",
        "    \"7th_anime_v2_G\":\"https://huggingface.co/syaimu/7th_Layer/resolve/main/7th_anime_v2/7th_anime_v2_G.safetensors\",\n",
        "    \"7th_anime_v3_A\":\"https://huggingface.co/syaimu/7th_Layer/resolve/main/7th_anime_v3/7th_anime_v3_A.safetensors\",\n",
        "    \"7th_anime_v3_B\":\"https://huggingface.co/syaimu/7th_Layer/resolve/main/7th_anime_v3/7th_anime_v3_B.safetensors\",\n",
        "    \"7th_anime_v3_C\":\"https://huggingface.co/syaimu/7th_Layer/resolve/main/7th_anime_v3/7th_anime_v3_C.safetensors\",\n",
        "    \"7th_anime_3.1_B\":\"https://huggingface.co/syaimu/7th_test/resolve/main/7th_anime_3.1_B.ckpt\",\n",
        "    \"YuzuGinger_v4\":\"https://huggingface.co/thiros/YuzuLemonTea/resolve/main/YuzuGinger_v4-pruned.safetensors\",\n",
        "    \"YuzuLemonMilk_v1.5\":\"https://huggingface.co/thiros/YuzuLemonTea/resolve/main/YuzuLemonMilk_v1.5-pruned.safetensors\",\n",
        "    \"Defmix-v1.1\":\"https://huggingface.co/Defpoint/Defmix-v1.0/resolve/main/Defmix-v1.1.safetensors\",\n",
        "    \"RDtMix\":\"https://huggingface.co/Hemlok/DateMix/resolve/main/RDtMix-fp16.safetensors\",\n",
        "    \"meadmix\":\"https://huggingface.co/sazanka-imoto/MeadMix/resolve/main/meadmix.safetensors\",\n",
        "    \"Nabylon-v1.0\":\"https://huggingface.co/NegiInNattoMaki/Nabylon-v1.0/resolve/main/Nabylon-v1.0-fp16.safetensors\",\n",
        "    \"LonganMix\":\"https://huggingface.co/Hemlok/LonganMix/resolve/main/LonganMix-fp16.ckpt\",\n",
        "    \"Corneo_7th_Heaven_Mix\":\"https://civitai.com/api/download/models/5338\",\n",
        "    \"Corneo_Shinra26_Mix\":\"https://civitai.com/api/download/models/6918\",\n",
        "    \"atwmix_test2\":\"https://huggingface.co/atsuwo/atwmix_test2/resolve/main/atwmix_test2.ckpt\",\n",
        "    \"Graham_Special\":\"https://huggingface.co/Graham-san/Graham_Special/resolve/main/Graham%20Special%20v1.ckpt\",\n",
        "    \"BalorV2featAbyssOrange2\":\"https://huggingface.co/ploughB660/Balor-V2/resolve/main/BalorV2featAbyssOrange2.safetensors\",\n",
        "    \"Balor-V2.5featAOM3A3\":\"https://huggingface.co/ploughB660/Balor-V3/resolve/main/Balor-V2.5featAOM3A3.safetensors\",\n",
        "    \"ChilloutMix\":\"https://civitai.com/api/download/models/11745\",\n",
        "    \"wd-1-5-beta2\":\"https://huggingface.co/waifu-diffusion/wd-1-5-beta2/resolve/main/checkpoints/wd-1-5-beta2-aesthetic-fp16.safetensors\",\n",
        "}\n",
        "\n",
        "\n",
        "vae_name = \"\" #@param [\"\",\"vae-ft-mse-840000-ema-pruned\",\"vae-ft-mse-560000-ema-pruned\",\"kl-f8-anime\",\"kl-f8-anime2\",\"Anything-V3.0\",\"autoencoder_fix_kl-f8-trinart_characters\",\"orangemix\"] {allow-input: false}\n",
        "\n",
        "url_dict = {\n",
        "    \"vae-ft-mse-840000-ema-pruned\": \"https://huggingface.co/stabilityai/sd-vae-ft-mse-original/resolve/main/vae-ft-mse-840000-ema-pruned.safetensors\",\n",
        "    \"vae-ft-mse-560000-ema-pruned\": \"https://huggingface.co/stabilityai/sd-vae-ft-ema-original/resolve/main/vae-ft-ema-560000-ema-pruned.ckpt\",\n",
        "    \"kl-f8-anime\": \"https://huggingface.co/hakurei/waifu-diffusion-v1-4/resolve/main/vae/kl-f8-anime.ckpt\",\n",
        "    \"kl-f8-anime2\": \"https://huggingface.co/hakurei/waifu-diffusion-v1-4/resolve/main/vae/kl-f8-anime2.ckpt\",\n",
        "    \"Anything-V3.0\": \"https://huggingface.co/ckpt/anything-v3.0/resolve/main/Anything-V3.0.vae.pt\",\n",
        "    \"autoencoder_fix_kl-f8-trinart_characters\": \"https://huggingface.co/naclbit/trinart_characters_19.2m_stable_diffusion_v1/resolve/main/autoencoder_fix_kl-f8-trinart_characters.ckpt\",\n",
        "    \"orangemix\": \"https://huggingface.co/WarriorMama777/OrangeMixs/resolve/main/VAEs/orangemix.vae.pt\",\n",
        "}\n",
        "\n",
        "model_url = model_dict.get(model_name)\n",
        "vae_url = url_dict.get(vae_name)\n",
        "\n",
        "def install(model_url, vae_url):\n",
        "\n",
        "    if model_url :\n",
        "        base_name = os.path.basename(model_url)\n",
        "        if model_url.startswith(\"https://drive.google.com\"):\n",
        "            os.chdir(\"/content/stable-diffusion-webui/models/Stable-diffusion\")\n",
        "            !gdown --fuzzy {model_url}\n",
        "        elif model_url.startswith(\"https://huggingface.co/\"):\n",
        "            if \"/blob/\" in model_url:\n",
        "                model_url = model_url.replace(\"/blob/\", \"/resolve/\")\n",
        "            huggingface_token =\"YOUR_HUGGINGFACE_TOKEN\" # 自分のトークンに変更\n",
        "            user_header = f'\"Authorization: Bearer {huggingface_token}\"'\n",
        "            !wget --no-check-certificate --header={user_header} {model_url} -O /content/stable-diffusion-webui/models/Stable-diffusion/{base_name}\n",
        "        else:\n",
        "            !wget {model_url} -O /content/stable-diffusion-webui/models/Stable-diffusion/{model_name}.safetensors\n",
        "    if vae_url :\n",
        "        base_name = os.path.basename(vae_url)\n",
        "        !wget {vae_url} -O /content/stable-diffusion-webui/models/Stable-diffusion/{vae_name}.vae.pt\n",
        "\n",
        "install(model_url, vae_url)\n",
        "\n",
        "!sed -i -e '''/prepare_environment()/a\\    os.system\\(f\\\"\"\"sed -i -e ''\\\"s/dict()))/dict())).cuda()/g\\\"'' /content/stable-diffusion-webui/repositories/stable-diffusion-stability-ai/ldm/util.py\"\"\")''' /content/stable-diffusion-webui/launch.py\n",
        "!python launch.py --share --xformers --enable-insecure-extension-access --gradio-queue --no-half-vae "
      ]
    },
    {
      "cell_type": "markdown",
      "source": [
        "**生成した画像の利用については自己判断および自己責任でお願いします。**<br>\n",
        "<br>\n",
        "**モデルを切り替えたい場合**<br>\n",
        "・2の実行を止めモデルを選択し直す。\n",
        "その後、再度2を実行する。<br>\n",
        "・もしくは、モデルを選択し直し、ヘッダーの「ランタイム」→「再起動して全てのセルを実行」を選び \"はい\" をクリック\n",
        "\n"
      ],
      "metadata": {
        "id": "r2DmT0JqVIYG"
      }
    },
    {
      "cell_type": "markdown",
      "source": [
        "▼使い方<br>\n",
        "[Google Colabで画像生成AIの色々なモデルを簡単に使おう](https://note.com/ai_nios/n/n0826a33edc8a)<br>\n",
        "<br>\n",
        "▼学習済みモデルの検索<br>\n",
        "[HuggingFace](https://huggingface.co/ckpt)<br><br>\n",
        "▼Colabページの説明<br>\n",
        "[stable-diffusion-webui-colab-japanese](https://github.com/AI-Nios/stable-diffusion-webui-colab-japanese)<br>\n",
        "<br>\n",
        "▼上級者向け<br>\n",
        "[Nios_v2_update.ipynb](https://colab.research.google.com/github/AI-Nios/stable-diffusion-webui-colab-japanese/blob/main/Nios_v2_update.ipynb)<br>\n",
        "[Nios_v3.ipynb](https://colab.research.google.com/github/AI-Nios/Nios-stable-diffusion-webui-colab-japan/blob/main/Nios_v3.ipynb)<br>"
      ],
      "metadata": {
        "id": "4iNjTp_bGOpO"
      }
    }
  ],
  "metadata": {
    "accelerator": "GPU",
    "colab": {
      "provenance": [],
      "include_colab_link": true
    },
    "gpuClass": "standard",
    "kernelspec": {
      "display_name": "Python 3",
      "name": "python3"
    },
    "language_info": {
      "name": "python"
    }
  },
  "nbformat": 4,
  "nbformat_minor": 0
}